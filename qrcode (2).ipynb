{
  "nbformat": 4,
  "nbformat_minor": 0,
  "metadata": {
    "colab": {
      "provenance": []
    },
    "kernelspec": {
      "name": "python3",
      "display_name": "Python 3"
    },
    "language_info": {
      "name": "python"
    }
  },
  "cells": [
    {
      "cell_type": "code",
      "execution_count": 35,
      "metadata": {
        "colab": {
          "base_uri": "https://localhost:8080/"
        },
        "id": "PCnoTqlKUPuU",
        "outputId": "6ad2c99a-c260-4aa2-a72b-e1925097f304"
      },
      "outputs": [
        {
          "output_type": "stream",
          "name": "stdout",
          "text": [
            "Requirement already satisfied: qrcode in /usr/local/lib/python3.10/dist-packages (8.0)\n"
          ]
        }
      ],
      "source": [
        "pip install qrcode"
      ]
    },
    {
      "cell_type": "code",
      "source": [
        "import qrcode"
      ],
      "metadata": {
        "id": "cGbfB-tOUYRH"
      },
      "execution_count": 36,
      "outputs": []
    },
    {
      "cell_type": "code",
      "source": [
        "from PIL import Image"
      ],
      "metadata": {
        "id": "Cjd_d-xMeyXQ"
      },
      "execution_count": 37,
      "outputs": []
    },
    {
      "cell_type": "code",
      "source": [
        "    tel_url = (\"https://colab.research.google.com/drive/1QTK67CHsM5GG9PeD_o848uPXAaFV-eS2#scrollTo=HpKIU55eg3Ot\")\n",
        "    qr = qrcode.QRCode(\n",
        "        version=1,\n",
        "        error_correction=qrcode.constants.ERROR_CORRECT_H,\n",
        "        box_size=10,\n",
        "        border=4,\n",
        "    )\n",
        "    qr.add_data(tel_url)\n",
        "    qr.make(fit=True)\n",
        "\n",
        "    img = qr.make_image(fill_color=\"bLACK\", back_color=\"white\")\n",
        "    img.save(\"QR_PROJECT.png\")\n"
      ],
      "metadata": {
        "id": "HpKIU55eg3Ot"
      },
      "execution_count": 38,
      "outputs": []
    },
    {
      "cell_type": "code",
      "source": [],
      "metadata": {
        "id": "yaM9etNUNwZo"
      },
      "execution_count": 38,
      "outputs": []
    }
  ]
}